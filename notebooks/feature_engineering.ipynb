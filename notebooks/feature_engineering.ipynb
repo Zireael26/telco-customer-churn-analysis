{
 "cells": [
  {
   "cell_type": "markdown",
   "id": "efc5efb7",
   "metadata": {},
   "source": [
    "# Feature Engineering for Telco Customer Churn\n",
    "\n",
    "This notebook demonstrates and documents feature engineering steps for the Telco Customer Churn dataset, including encoding, transformations, and new feature creation."
   ]
  },
  {
   "cell_type": "code",
   "execution_count": null,
   "id": "08763dd7",
   "metadata": {},
   "outputs": [],
   "source": [
    "# Import Required Libraries\n",
    "import pandas as pd\n",
    "import numpy as np\n",
    "from src.preprocess.dataloader import load_telco_data"
   ]
  },
  {
   "cell_type": "code",
   "execution_count": null,
   "id": "50d41610",
   "metadata": {},
   "outputs": [],
   "source": [
    "# Load Data\n",
    "train_df, test_df, val_df = load_telco_data()\n",
    "print(f\"Train shape: {train_df.shape}\")\n",
    "print(f\"Validation shape: {val_df.shape if val_df is not None else 'N/A'}\")\n",
    "print(f\"Test shape: {test_df.shape}\")"
   ]
  },
  {
   "cell_type": "markdown",
   "id": "342d90c0",
   "metadata": {},
   "source": [
    "## Feature Engineering Steps\n",
    "\n",
    "- Drop or encode the 'customerID' column\n",
    "- Convert 'TotalCharges' to numeric and handle errors\n",
    "- Encode categorical variables (label encoding for binary, one-hot for multi-class)\n",
    "- Create new features (e.g., tenure groups)\n",
    "- Document all changes and rationale"
   ]
  },
  {
   "cell_type": "code",
   "execution_count": null,
   "id": "7ed7abe0",
   "metadata": {},
   "outputs": [],
   "source": [
    "# Drop or encode 'customerID' and convert 'TotalCharges' to numeric\n",
    "def preprocess_basic(df):\n",
    "    df = df.copy()\n",
    "    if 'customerID' in df.columns:\n",
    "        df = df.drop('customerID', axis=1)\n",
    "    if 'TotalCharges' in df.columns:\n",
    "        df['TotalCharges'] = pd.to_numeric(df['TotalCharges'], errors='coerce')\n",
    "    return df\n",
    "\n",
    "train_df = preprocess_basic(train_df)\n",
    "val_df = preprocess_basic(val_df) if val_df is not None else None\n",
    "test_df = preprocess_basic(test_df)\n",
    "\n",
    "print('customerID dropped and TotalCharges converted to numeric.')"
   ]
  },
  {
   "cell_type": "code",
   "execution_count": null,
   "id": "2b1afe74",
   "metadata": {},
   "outputs": [],
   "source": [
    "# Encode categorical variables\n",
    "def encode_categoricals(df):\n",
    "    df = df.copy()\n",
    "    for col in df.select_dtypes(include=['object', 'category']).columns:\n",
    "        if df[col].nunique() == 2:\n",
    "            # Binary: label encoding\n",
    "            df[col] = df[col].astype('category').cat.codes\n",
    "        else:\n",
    "            # Multi-class: one-hot encoding\n",
    "            dummies = pd.get_dummies(df[col], prefix=col)\n",
    "            df = pd.concat([df.drop(col, axis=1), dummies], axis=1)\n",
    "    return df\n",
    "\n",
    "train_df = encode_categoricals(train_df)\n",
    "val_df = encode_categoricals(val_df) if val_df is not None else None\n",
    "test_df = encode_categoricals(test_df)\n",
    "\n",
    "print('Categorical variables encoded.')"
   ]
  },
  {
   "cell_type": "code",
   "execution_count": null,
   "id": "bf95fd2b",
   "metadata": {},
   "outputs": [],
   "source": [
    "# Create new features (e.g., tenure groups)\n",
    "def add_features(df):\n",
    "    df = df.copy()\n",
    "    if 'tenure' in df.columns:\n",
    "        df['tenure_group'] = pd.cut(df['tenure'], bins=[0, 12, 24, 48, 60, np.inf], labels=['0-12', '13-24', '25-48', '49-60', '61+'])\n",
    "        df = pd.concat([df, pd.get_dummies(df['tenure_group'], prefix='tenure_group')], axis=1)\n",
    "        df = df.drop('tenure_group', axis=1)\n",
    "    return df\n",
    "\n",
    "train_df = add_features(train_df)\n",
    "val_df = add_features(val_df) if val_df is not None else None\n",
    "test_df = add_features(test_df)\n",
    "\n",
    "print('New features created.')"
   ]
  },
  {
   "cell_type": "code",
   "execution_count": null,
   "id": "6643d157",
   "metadata": {},
   "outputs": [],
   "source": [
    "# Display processed train set info\n",
    "print('Processed train_df info:')\n",
    "print(train_df.info())\n",
    "display(train_df.head())"
   ]
  }
 ],
 "metadata": {
  "language_info": {
   "name": "python"
  }
 },
 "nbformat": 4,
 "nbformat_minor": 5
}
